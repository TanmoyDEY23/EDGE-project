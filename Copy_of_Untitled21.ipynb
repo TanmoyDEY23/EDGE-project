{
  "nbformat": 4,
  "nbformat_minor": 0,
  "metadata": {
    "colab": {
      "provenance": [],
      "authorship_tag": "ABX9TyM6bce3g/GPD8IhheBU6pg8",
      "include_colab_link": true
    },
    "kernelspec": {
      "name": "python3",
      "display_name": "Python 3"
    },
    "language_info": {
      "name": "python"
    }
  },
  "cells": [
    {
      "cell_type": "markdown",
      "metadata": {
        "id": "view-in-github",
        "colab_type": "text"
      },
      "source": [
        "<a href=\"https://colab.research.google.com/github/TanmoyDEY23/EDGE-project/blob/main/Copy_of_Untitled21.ipynb\" target=\"_parent\"><img src=\"https://colab.research.google.com/assets/colab-badge.svg\" alt=\"Open In Colab\"/></a>"
      ]
    },
    {
      "cell_type": "code",
      "execution_count": null,
      "metadata": {
        "id": "6TEBmIt_5Pqa",
        "colab": {
          "base_uri": "https://localhost:8080/"
        },
        "outputId": "efc5b364-464e-4653-ba3a-de04f05f354f"
      },
      "outputs": [
        {
          "output_type": "stream",
          "name": "stdout",
          "text": [
            "Sample data written to student_data.csv\n"
          ]
        }
      ],
      "source": [
        "\n",
        "import os\n",
        "import pandas as pd\n",
        "import matplotlib.pyplot as plt\n",
        "import re\n",
        "# Data Collection and Storage\n",
        "\n",
        "def create_sample_csv(file_path):\n",
        "    data = {\n",
        "        \"Student Name\": [\"Raju\", \"Tanmoy\", \"Zahid\", \"Shanti\"],\n",
        "        \"Student ID\": [\"STU-101\", \"STU-102\", \"STU-103\", \"STU-104\"],\n",
        "        \"Subject\": [\"EEE\", \"CSE\", \"English\", \"SWE\"],\n",
        "        \"Score\": [78, 83, 79, 82],\n",
        "        \"Attendance Percentage\": [88, 70, 92, 60],\n",
        "        \"Assignment Completion\": [\"Yes\", \"No\", \"Yes\", \"No\"],\n",
        "    }\n",
        "    df = pd.DataFrame(data)\n",
        "    df.to_csv(file_path, index=False)\n",
        "    print(f\"Sample data written to {file_path}\")\n",
        "\n",
        "file_path = \"student_data.csv\"\n",
        "create_sample_csv(file_path)\n"
      ]
    },
    {
      "cell_type": "code",
      "source": [
        "# Basic File Handling\n",
        "def read_csv(file_path):\n",
        "    try:\n",
        "        return pd.read_csv(file_path)\n",
        "    except FileNotFoundError:\n",
        "        print(\"File not found. Please provide a valid file path.\")\n",
        "        return None\n",
        "\n",
        "def write_csv(df, file_path):\n",
        "    df.to_csv(file_path, index=False)\n",
        "    print(f\"Data saved to {file_path}\")\n",
        "\n",
        "\n"
      ],
      "metadata": {
        "id": "dYC1Gq33UKKR"
      },
      "execution_count": null,
      "outputs": []
    },
    {
      "cell_type": "code",
      "source": [
        "# Data Analysis and Manipulation\n",
        "def analyze_data(df):\n",
        "    print(\"Average Scores:\")\n",
        "    print(df.groupby(\"Student Name\")[\"Score\"].mean())\n",
        "    print(\"\\nMinimum and Maximum Scores:\")\n",
        "    print(df.groupby(\"Student Name\")[\"Score\"].agg([\"min\", \"max\"]))\n",
        "\n",
        "    print(\"\\nStudents with attendance < 75% or missing assignments:\")\n",
        "    low_attendance_or_missing = df[(df[\"Attendance Percentage\"] < 75) | (df[\"Assignment Completion\"] == \"No\")]\n",
        "    print(low_attendance_or_missing)\n",
        "\n",
        "def filter_failing_students(df, subject):\n",
        "    failing_students = df[(df[\"Subject\"] == subject) & (df[\"Score\"] < 50)]\n",
        "    print(f\"Failing students in {subject}:\")\n",
        "    print(failing_students)\n",
        "\n",
        "def convert_score_to_int(df):\n",
        "    df[\"Score\"] = df[\"Score\"].astype(int)\n",
        "\n",
        "# Example usage\n",
        "file_path = \"modified_student_data.csv\"  # Path to your modified CSV file\n",
        "df = read_csv_file(file_path)\n",
        "\n",
        "if df is not None:\n",
        "    analyze_data(df)\n",
        "\n"
      ],
      "metadata": {
        "colab": {
          "base_uri": "https://localhost:8080/"
        },
        "id": "ZwVOevQUUpkT",
        "outputId": "531e606f-274f-4487-9f1c-9dacc33b62ae"
      },
      "execution_count": null,
      "outputs": [
        {
          "output_type": "stream",
          "name": "stdout",
          "text": [
            "Average Scores:\n",
            "Student Name\n",
            "Raju      78.0\n",
            "Shanti    82.0\n",
            "Tanmoy    83.0\n",
            "Zahid     79.0\n",
            "Name: Score, dtype: float64\n",
            "\n",
            "Minimum and Maximum Scores:\n",
            "              min  max\n",
            "Student Name          \n",
            "Raju           78   78\n",
            "Shanti         82   82\n",
            "Tanmoy         83   83\n",
            "Zahid          79   79\n",
            "\n",
            "Students with attendance < 75% or missing assignments:\n",
            "  Student Name Student ID Subject  Score  Attendance Percentage  \\\n",
            "1       Tanmoy    STU-102     CSE     83                     70   \n",
            "3       Shanti    STU-104     SWE     82                     60   \n",
            "\n",
            "  Assignment Completion Grade  \n",
            "1                    No     A  \n",
            "3                    No     A  \n"
          ]
        }
      ]
    },
    {
      "cell_type": "code",
      "source": [
        "# Visualization\n",
        "def plot_visualizations(df):\n",
        "    # Bar chart of average scores by subject\n",
        "    avg_scores = df.groupby(\"Subject\")[\"Score\"].mean()\n",
        "    avg_scores.plot(kind=\"bar\", title=\"Average Scores by Subject\", ylabel=\"Score\", xlabel=\"Subject\")\n",
        "    plt.show()\n"
      ],
      "metadata": {
        "id": "wStdI7iGhU98"
      },
      "execution_count": null,
      "outputs": []
    },
    {
      "cell_type": "code",
      "source": [
        "    # Pie chart of attendance percentage categories\n",
        "    attendance_categories = pd.cut(df[\"Attendance Percentage\"], bins=[0, 50, 75, 100], labels=[\"<50%\", \"50-75%\", \">75%\"])\n",
        "    attendance_categories.value_counts().plot(kind=\"pie\", title=\"Attendance Categories\", autopct=\"%1.1f%%\")\n",
        "    plt.show()\n"
      ],
      "metadata": {
        "colab": {
          "base_uri": "https://localhost:8080/",
          "height": 428
        },
        "id": "qxNCi7gwhf8k",
        "outputId": "6f9a4fe9-12fc-4db4-fa14-6fb7dcf50d87"
      },
      "execution_count": null,
      "outputs": [
        {
          "output_type": "display_data",
          "data": {
            "text/plain": [
              "<Figure size 640x480 with 1 Axes>"
            ],
            "image/png": "[encoded data removed]"
          },
          "metadata": {}
        }
      ]
    },
    {
      "cell_type": "code",
      "source": [
        "# Functions for Logic\n",
        "def calculate_aggregate_scores(df):\n",
        "    df[\"Aggregate Score\"] = df.groupby(\"Student Name\")[\"Score\"].transform(\"sum\")\n",
        "\n",
        "def determine_grade(score):\n",
        "    if score >= 90:\n",
        "        return \"A\"\n",
        "    elif score >= 75:\n",
        "        return \"B\"\n",
        "    elif score >= 50:\n",
        "        return \"C\"\n",
        "    else:\n",
        "        return \"Fail\"\n",
        "\n",
        "def apply_grades(df):\n",
        "    df[\"Grade\"] = df[\"Score\"].apply(determine_grade)\n"
      ],
      "metadata": {
        "id": "NfKJ0PEnhp52"
      },
      "execution_count": null,
      "outputs": []
    },
    {
      "cell_type": "code",
      "source": [
        "import os\n",
        "import re\n",
        "import pandas as pd\n",
        "\n",
        "# Interactive Console I/O\n",
        "\n",
        "\n",
        "def add_student_data(df):\n",
        "    name = input(\"Enter Student Name: \")\n",
        "    student_id = input(\"Enter Student ID: \")\n",
        "    if not re.match(r\"STU-\\d{4}\", student_id):\n",
        "        print(\"Invalid ID format. Use STU-XXXX.\")\n",
        "        return df\n",
        "\n",
        "    subject = input(\"Enter Subject: \")\n",
        "\n",
        "    while True:\n",
        "        try:\n",
        "            score = int(input(\"Enter Score: \"))\n",
        "            break\n",
        "        except ValueError:\n",
        "            print(\"Invalid input. Please enter an integer for the score.\")\n",
        "\n",
        "    while True:\n",
        "        try:\n",
        "            attendance = int(input(\"Enter Attendance Percentage: \"))\n",
        "            break\n",
        "        except ValueError:\n",
        "            print(\"Invalid input. Please enter an integer for attendance percentage.\")\n",
        "\n",
        "    assignment = input(\"Assignment Completed (Yes/No): \")\n",
        "\n",
        "    new_data = pd.DataFrame({\n",
        "        \"Student Name\": [name],\n",
        "        \"Student ID\": [student_id],\n",
        "        \"Subject\": [subject],\n",
        "        \"Score\": [score],\n",
        "        \"Attendance Percentage\": [attendance],\n",
        "        \"Assignment Completion\": [assignment],\n",
        "    })\n",
        "    return pd.concat([df, new_data], ignore_index=True)\n",
        "\n",
        "def main():\n",
        "    file_path = \"student_data.csv\"\n",
        "    if not os.path.exists(file_path):\n",
        "        create_sample_csv(file_path)\n",
        "\n",
        "    df = read_csv_file(file_path)  # Use your read_csv_file function\n",
        "    if df is None:\n",
        "        return\n",
        "\n",
        "    while True:\n",
        "        print(\"\\nMenu:\")\n",
        "        print(\"1. Analyze Data\")\n",
        "        print(\"2. Filter Failing Students\")\n",
        "        print(\"3. Visualize Data\")\n",
        "        print(\"4. Add New Student Data\")\n",
        "        print(\"5. Save and Exit\")\n",
        "        choice = input(\"Enter your choice: \")\n",
        "\n",
        "        if choice == \"1\":\n",
        "            analyze_data(df)\n",
        "        elif choice == \"2\":\n",
        "            subject = input(\"Enter subject to filter failing students: \")\n",
        "            filter_failing_students(df, subject)\n",
        "        elif choice == \"3\":\n",
        "            plot_visualizations(df)\n",
        "        elif choice == \"4\":\n",
        "            df = add_student_data(df)\n",
        "        elif choice == \"5\":\n",
        "            write_csv_file(df, file_path)  # Use your write_csv_file function\n",
        "            break\n",
        "        else:\n",
        "            print(\"Invalid choice. Please try again.\")\n",
        "\n",
        "if __name__ == \"__main__\":\n",
        "    main()"
      ],
      "metadata": {
        "colab": {
          "base_uri": "https://localhost:8080/",
          "height": 1000
        },
        "id": "MHBD6D0IiNhr",
        "outputId": "fbf7eb0c-6253-4f1c-86d1-8ed83f5874d2"
      },
      "execution_count": null,
      "outputs": [
        {
          "name": "stdout",
          "output_type": "stream",
          "text": [
            "\n",
            "Menu:\n",
            "1. Analyze Data\n",
            "2. Filter Failing Students\n",
            "3. Visualize Data\n",
            "4. Add New Student Data\n",
            "5. Save and Exit\n",
            "Enter your choice: 1\n",
            "Average Scores:\n",
            "Student Name\n",
            "Raju      78.0\n",
            "Sajib     88.0\n",
            "Shanti    82.0\n",
            "Tanmoy    83.0\n",
            "Zahid     79.0\n",
            "Name: Score, dtype: float64\n",
            "\n",
            "Minimum and Maximum Scores:\n",
            "              min  max\n",
            "Student Name          \n",
            "Raju           78   78\n",
            "Sajib          88   88\n",
            "Shanti         82   82\n",
            "Tanmoy         83   83\n",
            "Zahid          79   79\n",
            "\n",
            "Students with attendance < 75% or missing assignments:\n",
            "  Student Name Student ID Subject  Score  Attendance Percentage  \\\n",
            "1       Tanmoy    STU-102     CSE     83                     70   \n",
            "3       Shanti    STU-104     SWE     82                     60   \n",
            "\n",
            "  Assignment Completion  \n",
            "1                    No  \n",
            "3                    No  \n",
            "\n",
            "Menu:\n",
            "1. Analyze Data\n",
            "2. Filter Failing Students\n",
            "3. Visualize Data\n",
            "4. Add New Student Data\n",
            "5. Save and Exit\n",
            "Enter your choice: 1\n",
            "Average Scores:\n",
            "Student Name\n",
            "Raju      78.0\n",
            "Sajib     88.0\n",
            "Shanti    82.0\n",
            "Tanmoy    83.0\n",
            "Zahid     79.0\n",
            "Name: Score, dtype: float64\n",
            "\n",
            "Minimum and Maximum Scores:\n",
            "              min  max\n",
            "Student Name          \n",
            "Raju           78   78\n",
            "Sajib          88   88\n",
            "Shanti         82   82\n",
            "Tanmoy         83   83\n",
            "Zahid          79   79\n",
            "\n",
            "Students with attendance < 75% or missing assignments:\n",
            "  Student Name Student ID Subject  Score  Attendance Percentage  \\\n",
            "1       Tanmoy    STU-102     CSE     83                     70   \n",
            "3       Shanti    STU-104     SWE     82                     60   \n",
            "\n",
            "  Assignment Completion  \n",
            "1                    No  \n",
            "3                    No  \n",
            "\n",
            "Menu:\n",
            "1. Analyze Data\n",
            "2. Filter Failing Students\n",
            "3. Visualize Data\n",
            "4. Add New Student Data\n",
            "5. Save and Exit\n",
            "Enter your choice: 2\n",
            "Enter subject to filter failing students: 3\n",
            "Failing students in 3:\n",
            "Empty DataFrame\n",
            "Columns: [Student Name, Student ID, Subject, Score, Attendance Percentage, Assignment Completion]\n",
            "Index: []\n",
            "\n",
            "Menu:\n",
            "1. Analyze Data\n",
            "2. Filter Failing Students\n",
            "3. Visualize Data\n",
            "4. Add New Student Data\n",
            "5. Save and Exit\n",
            "Enter your choice: 3\n"
          ]
        },
        {
          "output_type": "display_data",
          "data": {
            "text/plain": [
              "<Figure size 640x480 with 1 Axes>"
            ],
            "image/png": "[encoded data removed]"
          },
          "metadata": {}
        },
        {
          "output_type": "stream",
          "name": "stdout",
          "text": [
            "\n",
            "Menu:\n",
            "1. Analyze Data\n",
            "2. Filter Failing Students\n",
            "3. Visualize Data\n",
            "4. Add New Student Data\n",
            "5. Save and Exit\n",
            "Enter your choice: 4\n",
            "Enter Student Name: sajib\n",
            "Enter Student ID: STU-1005\n",
            "Enter Subject: EEE\n",
            "Enter Score: 88\n",
            "Enter Attendance Percentage: 75\n",
            "Assignment Completed (Yes/No): yes\n",
            "\n",
            "Menu:\n",
            "1. Analyze Data\n",
            "2. Filter Failing Students\n",
            "3. Visualize Data\n",
            "4. Add New Student Data\n",
            "5. Save and Exit\n",
            "Enter your choice: 5\n",
            "Modified data written to student_data.csv\n"
          ]
        }
      ]
    },
    {
      "cell_type": "code",
      "source": [],
      "metadata": {
        "id": "UZLngYPioJSZ"
      },
      "execution_count": null,
      "outputs": []
    }
  ]
}