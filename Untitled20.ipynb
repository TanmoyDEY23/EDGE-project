{
  "nbformat": 4,
  "nbformat_minor": 0,
  "metadata": {
    "colab": {
      "provenance": [],
      "authorship_tag": "ABX9TyPxkU/7X5x0QmugTCphW0DD",
      "include_colab_link": true
    },
    "kernelspec": {
      "name": "python3",
      "display_name": "Python 3"
    },
    "language_info": {
      "name": "python"
    }
  },
  "cells": [
    {
      "cell_type": "markdown",
      "metadata": {
        "id": "view-in-github",
        "colab_type": "text"
      },
      "source": [
        "<a href=\"https://colab.research.google.com/github/TanmoyDEY23/EDGE-project/blob/main/Untitled20.ipynb\" target=\"_parent\"><img src=\"https://colab.research.google.com/assets/colab-badge.svg\" alt=\"Open In Colab\"/></a>"
      ]
    },
    {
      "cell_type": "code",
      "execution_count": 1,
      "metadata": {
        "colab": {
          "base_uri": "https://localhost:8080/"
        },
        "id": "57ybgxK2qlmr",
        "outputId": "51241bf2-2d4d-4819-e7ce-e57ba800988f"
      },
      "outputs": [
        {
          "name": "stdout",
          "output_type": "stream",
          "text": [
            "enter your nameTanmoy Dey\n"
          ]
        }
      ],
      "source": [
        "Data=[\n",
        "    [students_name,students_id,subject,score,attendance,percentage,assignment,]\n",
        "]"
      ]
    },
    {
      "cell_type": "code",
      "source": [
        "import csv\n",
        "import random\n",
        "\n",
        "# Function to generate random student data\n",
        "def generate_student_data(num_students):\n",
        "    data = []\n",
        "    subjects = [\"Math\", \"Science\", \"English\", \"History\"]\n",
        "    for i in range(num_students):\n",
        "        student_id = f\"S{i+1:04}\"  # Format student ID as S0001, S0002, etc.\n",
        "        student_name = f\"Student {i+1}\"\n",
        "        for subject in subjects:\n",
        "            score = random.randint(50, 100)\n",
        "            attendance = random.randint(75, 100)\n",
        "            assignment_completion = random.choice([\"Yes\", \"No\"])\n",
        "            data.append([student_name, student_id, subject, score, attendance, assignment_completion])\n",
        "    return data\n",
        "\n",
        "# Generate data for 10 students\n",
        "student_data = generate_student_data(10)\n",
        "\n",
        "# Store data in a CSV file\n",
        "with open(\"student_performance.csv\", \"w\", newline=\"\") as csvfile:\n",
        "    writer = csv.writer(csvfile)\n",
        "    writer.writerow([\"Student Name\", \"Student ID\", \"Subject\", \"Score\", \"Attendance\", \"Assignment Completion\"])  # Header row\n",
        "    writer.writerows(student_data)\n",
        "\n",
        "print(\"Student performance data generated and saved to student_performance.csv\")"
      ],
      "metadata": {
        "colab": {
          "base_uri": "https://localhost:8080/"
        },
        "id": "otZBxzOjvxk3",
        "outputId": "4ea5b4ac-c175-4375-bc09-1fea772683c2"
      },
      "execution_count": 2,
      "outputs": [
        {
          "output_type": "stream",
          "name": "stdout",
          "text": [
            "Student performance data generated and saved to student_performance.csv\n"
          ]
        }
      ]
    }
  ]
}